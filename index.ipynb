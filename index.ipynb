{
 "cells": [
  {
   "cell_type": "markdown",
   "metadata": {},
   "source": [
    "# More on Missing Data - Lab\n",
    "\n",
    "## Introduction\n",
    "\n",
    "In this lab, you'll continue to practice techniques for dealing with missing data. Moreover, you'll observe the impact on distributions of your data produced by various techniques for dealing with missing data.\n",
    "\n",
    "## Objectives\n",
    "\n",
    "In this lab you will: \n",
    "\n",
    "- Evaluate and execute the best strategy for dealing with missing, duplicate, and erroneous values for a given dataset   \n",
    "- Determine how the distribution of data is affected by imputing values "
   ]
  },
  {
   "cell_type": "markdown",
   "metadata": {},
   "source": [
    "## Load the data\n",
    "\n",
    "To start, load the dataset `'titanic.csv'` using pandas."
   ]
  },
  {
   "cell_type": "code",
   "execution_count": 1,
   "metadata": {},
   "outputs": [],
   "source": [
    "# Your code here\n",
    "import pandas as pd\n",
    "import numpy as np\n",
    "import matplotlib.pyplot as plt\n",
    "%matplotlib inline\n",
    "\n",
    "# Read the Titanic dataset into a DataFrame\n",
    "df = pd.read_csv('titanic.csv')\n",
    "\n"
   ]
  },
  {
   "cell_type": "markdown",
   "metadata": {},
   "source": [
    "Use the `.info()` method to quickly preview which features have missing data"
   ]
  },
  {
   "cell_type": "code",
   "execution_count": 2,
   "metadata": {},
   "outputs": [
    {
     "name": "stdout",
     "output_type": "stream",
     "text": [
      "<class 'pandas.core.frame.DataFrame'>\n",
      "RangeIndex: 1391 entries, 0 to 1390\n",
      "Data columns (total 12 columns):\n",
      " #   Column       Non-Null Count  Dtype  \n",
      "---  ------       --------------  -----  \n",
      " 0   PassengerId  1391 non-null   float64\n",
      " 1   Survived     1391 non-null   float64\n",
      " 2   Pclass       1391 non-null   object \n",
      " 3   Name         1391 non-null   object \n",
      " 4   Sex          1391 non-null   object \n",
      " 5   Age          1209 non-null   float64\n",
      " 6   SibSp        1391 non-null   float64\n",
      " 7   Parch        1391 non-null   float64\n",
      " 8   Ticket       1391 non-null   object \n",
      " 9   Fare         1391 non-null   float64\n",
      " 10  Cabin        602 non-null    object \n",
      " 11  Embarked     1289 non-null   object \n",
      "dtypes: float64(6), object(6)\n",
      "memory usage: 130.5+ KB\n"
     ]
    }
   ],
   "source": [
    "# Your code here\n",
    "df.info()"
   ]
  },
  {
   "cell_type": "markdown",
   "metadata": {},
   "source": [
    "## Observe previous measures of centrality\n",
    "\n",
    "Let's look at the `'Age'` feature. Calculate the mean, median, and standard deviation of this feature. Then plot a histogram of the distribution."
   ]
  },
  {
   "cell_type": "code",
   "execution_count": 3,
   "metadata": {},
   "outputs": [
    {
     "name": "stdout",
     "output_type": "stream",
     "text": [
      "Mean Age: 29.731894127378\n",
      "Median Age: 27.0\n",
      "Standard Deviation of Age: 16.0701246034447\n"
     ]
    },
    {
     "data": {
      "image/png": "[encoded data removed]",
      "text/plain": [
       "<Figure size 576x432 with 1 Axes>"
      ]
     },
     "metadata": {
      "needs_background": "light"
     },
     "output_type": "display_data"
    }
   ],
   "source": [
    "# Your code here\n",
    "import pandas as pd\n",
    "import matplotlib.pyplot as plt\n",
    "\n",
    "# Load the Titanic dataset\n",
    "df = pd.read_csv('titanic.csv')  # Make sure the 'titanic.csv' file is in the correct directory\n",
    "\n",
    "# Calculate the mean, median, and standard deviation of the 'Age' feature\n",
    "mean_age = df['Age'].mean()\n",
    "median_age = df['Age'].median()\n",
    "std_age = df['Age'].std()\n",
    "\n",
    "# Print the results\n",
    "print(\"Mean Age:\", mean_age)\n",
    "print(\"Median Age:\", median_age)\n",
    "print(\"Standard Deviation of Age:\", std_age)\n",
    "\n",
    "# Plot a histogram of the 'Age' feature\n",
    "plt.figure(figsize=(8, 6))\n",
    "plt.hist(df['Age'].dropna(), bins=20, edgecolor='black')  # Drop NaN values before plotting\n",
    "plt.title('Age Distribution of Titanic Passengers')\n",
    "plt.xlabel('Age')\n",
    "plt.ylabel('Frequency')\n",
    "plt.show()\n"
   ]
  },
  {
   "cell_type": "markdown",
   "metadata": {},
   "source": [
    "## Impute missing values using the mean \n",
    "\n",
    "Fill the missing `'Age'` values using the average age. (Don't overwrite the original data, as we will be comparing to other methods for dealing with the missing values.) Then recalculate the mean, median, and std and replot the histogram."
   ]
  },
  {
   "cell_type": "code",
   "execution_count": 4,
   "metadata": {},
   "outputs": [
    {
     "name": "stdout",
     "output_type": "stream",
     "text": [
      "Original - Mean Age: 29.731894127378\n",
      "Original - Median Age: 27.0\n",
      "Original - Standard Deviation of Age: 16.0701246034447\n",
      "\n",
      "Filled - Mean Age: 29.731894127377995\n",
      "Filled - Median Age: 29.731894127378\n",
      "Filled - Standard Deviation of Age: 14.98115547604539\n"
     ]
    },
    {
     "data": {
      "image/png": "[encoded data removed]",
      "text/plain": [
       "<Figure size 576x432 with 1 Axes>"
      ]
     },
     "metadata": {
      "needs_background": "light"
     },
     "output_type": "display_data"
    }
   ],
   "source": [
    "# Your code here\n",
    "import pandas as pd\n",
    "import matplotlib.pyplot as plt\n",
    "\n",
    "# Load the Titanic dataset\n",
    "df = pd.read_csv('titanic.csv')  # Make sure the 'titanic.csv' file is in the correct directory\n",
    "\n",
    "# Calculate the mean, median, and standard deviation of the 'Age' feature before filling missing values\n",
    "mean_age_original = df['Age'].mean()\n",
    "median_age_original = df['Age'].median()\n",
    "std_age_original = df['Age'].std()\n",
    "\n",
    "# Fill missing 'Age' values with the mean age\n",
    "df_filled = df.copy()  # Create a copy to avoid overwriting the original data\n",
    "mean_age = df['Age'].mean()\n",
    "df_filled['Age'].fillna(mean_age, inplace=True)\n",
    "\n",
    "# Recalculate the mean, median, and standard deviation after filling missing values\n",
    "mean_age_filled = df_filled['Age'].mean()\n",
    "median_age_filled = df_filled['Age'].median()\n",
    "std_age_filled = df_filled['Age'].std()\n",
    "\n",
    "# Print the original and filled statistics\n",
    "print(\"Original - Mean Age:\", mean_age_original)\n",
    "print(\"Original - Median Age:\", median_age_original)\n",
    "print(\"Original - Standard Deviation of Age:\", std_age_original)\n",
    "print(\"\\nFilled - Mean Age:\", mean_age_filled)\n",
    "print(\"Filled - Median Age:\", median_age_filled)\n",
    "print(\"Filled - Standard Deviation of Age:\", std_age_filled)\n",
    "\n",
    "# Plot a histogram of the 'Age' feature after filling missing values\n",
    "plt.figure(figsize=(8, 6))\n",
    "plt.hist(df_filled['Age'], bins=20, edgecolor='black')  # Histogram after filling missing values\n",
    "plt.title('Age Distribution of Titanic Passengers (Filled Missing Values)')\n",
    "plt.xlabel('Age')\n",
    "plt.ylabel('Frequency')\n",
    "plt.show()\n"
   ]
  },
  {
   "cell_type": "markdown",
   "metadata": {},
   "source": [
    "### Commentary\n",
    "\n",
    "Note that the standard deviation dropped, the median was slightly raised and the distribution has a larger mass near the center."
   ]
  },
  {
   "cell_type": "markdown",
   "metadata": {},
   "source": [
    "## Impute missing values using the median \n",
    "\n",
    "Fill the missing `'Age'` values, this time using the median age. (Again, don't overwrite the original data, as we will be comparing to other methods for dealing with the missing values.) Then recalculate the mean, median, and std and replot the histogram."
   ]
  },
  {
   "cell_type": "code",
   "execution_count": 5,
   "metadata": {},
   "outputs": [
    {
     "name": "stdout",
     "output_type": "stream",
     "text": [
      "Original - Mean Age: 29.731894127378\n",
      "Original - Median Age: 27.0\n",
      "Original - Standard Deviation of Age: 16.0701246034447\n",
      "\n",
      "Filled with Median - Mean Age: 29.37445003594536\n",
      "Filled with Median - Median Age: 27.0\n",
      "Filled with Median - Standard Deviation of Age: 15.009475778073455\n"
     ]
    },
    {
     "data": {
      "image/png": "[encoded data removed]",
      "text/plain": [
       "<Figure size 576x432 with 1 Axes>"
      ]
     },
     "metadata": {
      "needs_background": "light"
     },
     "output_type": "display_data"
    }
   ],
   "source": [
    "# Your code here\n",
    "import pandas as pd\n",
    "import matplotlib.pyplot as plt\n",
    "\n",
    "# Load the Titanic dataset\n",
    "df = pd.read_csv('titanic.csv')  # Make sure the 'titanic.csv' file is in the correct directory\n",
    "\n",
    "# Calculate the mean, median, and standard deviation of the 'Age' feature before filling missing values\n",
    "mean_age_original = df['Age'].mean()\n",
    "median_age_original = df['Age'].median()\n",
    "std_age_original = df['Age'].std()\n",
    "\n",
    "# Fill missing 'Age' values with the median age\n",
    "df_filled_median = df.copy()  # Create a copy to avoid overwriting the original data\n",
    "median_age = df['Age'].median()\n",
    "df_filled_median['Age'].fillna(median_age, inplace=True)\n",
    "\n",
    "# Recalculate the mean, median, and standard deviation after filling missing values with the median\n",
    "mean_age_filled_median = df_filled_median['Age'].mean()\n",
    "median_age_filled_median = df_filled_median['Age'].median()\n",
    "std_age_filled_median = df_filled_median['Age'].std()\n",
    "\n",
    "# Print the original and filled statistics\n",
    "print(\"Original - Mean Age:\", mean_age_original)\n",
    "print(\"Original - Median Age:\", median_age_original)\n",
    "print(\"Original - Standard Deviation of Age:\", std_age_original)\n",
    "print(\"\\nFilled with Median - Mean Age:\", mean_age_filled_median)\n",
    "print(\"Filled with Median - Median Age:\", median_age_filled_median)\n",
    "print(\"Filled with Median - Standard Deviation of Age:\", std_age_filled_median)\n",
    "\n",
    "# Plot a histogram of the 'Age' feature after filling missing values with the median\n",
    "plt.figure(figsize=(8, 6))\n",
    "plt.hist(df_filled_median['Age'], bins=20, edgecolor='black')  # Histogram after filling missing values with median\n",
    "plt.title('Age Distribution of Titanic Passengers (Filled Missing Values with Median)')\n",
    "plt.xlabel('Age')\n",
    "plt.ylabel('Frequency')\n",
    "plt.show()\n"
   ]
  },
  {
   "cell_type": "markdown",
   "metadata": {},
   "source": [
    "### Commentary\n",
    "\n",
    "Imputing the median has similar effectiveness to imputing the mean. The variance is reduced, while the mean is slightly lowered. You can once again see that there is a larger mass of data near the center of the distribution."
   ]
  },
  {
   "cell_type": "markdown",
   "metadata": {},
   "source": [
    "## Dropping rows\n",
    "\n",
    "Finally, let's observe the impact on the distribution if we were to simply drop all of the rows that are missing an age value. Then, calculate the mean, median and standard deviation of the ages along with a histogram, as before."
   ]
  },
  {
   "cell_type": "code",
   "execution_count": 6,
   "metadata": {},
   "outputs": [
    {
     "name": "stdout",
     "output_type": "stream",
     "text": [
      "Original - Mean Age: 29.731894127378\n",
      "Original - Median Age: 27.0\n",
      "Original - Standard Deviation of Age: 16.0701246034447\n",
      "\n",
      "Dropped Missing - Mean Age: 29.731894127378\n",
      "Dropped Missing - Median Age: 27.0\n",
      "Dropped Missing - Standard Deviation of Age: 16.0701246034447\n"
     ]
    },
    {
     "data": {
      "image/png": "[encoded data removed]",
      "text/plain": [
       "<Figure size 576x432 with 1 Axes>"
      ]
     },
     "metadata": {
      "needs_background": "light"
     },
     "output_type": "display_data"
    }
   ],
   "source": [
    "# Your code here\n",
    "import pandas as pd\n",
    "import matplotlib.pyplot as plt\n",
    "\n",
    "# Load the Titanic dataset\n",
    "df = pd.read_csv('titanic.csv')  # Make sure the 'titanic.csv' file is in the correct directory\n",
    "\n",
    "# Calculate the mean, median, and standard deviation of the 'Age' feature before any modifications\n",
    "mean_age_original = df['Age'].mean()\n",
    "median_age_original = df['Age'].median()\n",
    "std_age_original = df['Age'].std()\n",
    "\n",
    "# Drop rows with missing 'Age' values\n",
    "df_dropped = df.dropna(subset=['Age'])\n",
    "\n",
    "# Recalculate the mean, median, and standard deviation after dropping missing 'Age' values\n",
    "mean_age_dropped = df_dropped['Age'].mean()\n",
    "median_age_dropped = df_dropped['Age'].median()\n",
    "std_age_dropped = df_dropped['Age'].std()\n",
    "\n",
    "# Print the original and dropped statistics\n",
    "print(\"Original - Mean Age:\", mean_age_original)\n",
    "print(\"Original - Median Age:\", median_age_original)\n",
    "print(\"Original - Standard Deviation of Age:\", std_age_original)\n",
    "print(\"\\nDropped Missing - Mean Age:\", mean_age_dropped)\n",
    "print(\"Dropped Missing - Median Age:\", median_age_dropped)\n",
    "print(\"Dropped Missing - Standard Deviation of Age:\", std_age_dropped)\n",
    "\n",
    "# Plot a histogram of the 'Age' feature after dropping rows with missing values\n",
    "plt.figure(figsize=(8, 6))\n",
    "plt.hist(df_dropped['Age'], bins=20, edgecolor='black')  # Histogram after dropping missing values\n",
    "plt.title('Age Distribution of Titanic Passengers (Dropped Missing Values)')\n",
    "plt.xlabel('Age')\n",
    "plt.ylabel('Frequency')\n",
    "plt.show()\n"
   ]
  },
  {
   "cell_type": "markdown",
   "metadata": {},
   "source": [
    "### Commentary\n",
    "\n",
    "Dropping missing values leaves the distribution and associated measures of centrality unchanged, but at the cost of throwing away data.\n",
    "\n",
    "## Summary\n",
    "\n",
    "In this lab, you briefly practiced some common techniques for dealing with missing data. Moreover, you observed the impact that these methods had on the distribution of the feature itself. When you begin to tune models on your data, these considerations will be an essential process of developing robust and accurate models."
   ]
  }
 ],
 "metadata": {
  "kernelspec": {
   "display_name": "Python 3",
   "language": "python",
   "name": "python3"
  },
  "language_info": {
   "codemirror_mode": {
    "name": "ipython",
    "version": 3
   },
   "file_extension": ".py",
   "mimetype": "text/x-python",
   "name": "python",
   "nbconvert_exporter": "python",
   "pygments_lexer": "ipython3",
   "version": "3.8.5"
  }
 },
 "nbformat": 4,
 "nbformat_minor": 2
}
